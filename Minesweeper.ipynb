{
 "cells": [
  {
   "cell_type": "code",
   "execution_count": 6,
   "metadata": {},
   "outputs": [],
   "source": [
    "import random\n",
    "\n",
    "def generateBoard(cols, rows, mines):\n",
    "    board = [[0 for x in range(cols)] for y in range(rows)]\n",
    "\n",
    "    #generate mine locations\n",
    "    minePos = random.sample(range(rows * cols), mines)\n",
    "    for pos in minePos:\n",
    "        row, col = divmod(pos, cols)\n",
    "        board[row][col] = 'M'\n",
    "\n",
    "    #count neighbors\n",
    "    for row in range(rows):\n",
    "        for col in range(cols):\n",
    "            if board[row][col] == 'M':\n",
    "                continue\n",
    "            count = 0\n",
    "            for rowShift in [-1, 0, 1]:\n",
    "                for colShift in [-1, 0, 1]:\n",
    "                    r= row + rowShift\n",
    "                    c = col + colShift\n",
    "                    if (0 <= r < rows) and (0 <= c < cols) and (board[r][c] == 'M'):\n",
    "                        count += 1\n",
    "            board[row][col] = count\n",
    "\n",
    "    return board\n",
    "\n",
    "def generatePlayArea(cols, rows):\n",
    "    PlayArea = [['X' for x in range(cols)] for y in range(rows)]\n",
    "    return PlayArea\n",
    "\n",
    "def checkSpot(board, col, row):\n",
    "    result = board[col][row]\n",
    "    return result"
   ]
  },
  {
   "cell_type": "code",
   "execution_count": 7,
   "metadata": {},
   "outputs": [
    {
     "name": "stdout",
     "output_type": "stream",
     "text": [
      "[0, 1, 2, 'M', 2, 'M', 'M', 'M', 2, 'M', 'M', 1, 0, 0, 1, 1, 2, 1, 1, 0, 0, 0, 1, 1, 1, 1, 'M', 'M', 'M', 1]\n",
      "[0, 1, 'M', 4, 5, 4, 4, 2, 2, 3, 3, 2, 1, 1, 2, 'M', 3, 'M', 1, 1, 1, 2, 2, 'M', 1, 1, 2, 3, 2, 1]\n",
      "[0, 1, 2, 'M', 'M', 'M', 2, 0, 1, 2, 'M', 2, 2, 'M', 2, 2, 'M', 2, 1, 1, 'M', 2, 'M', 3, 2, 0, 0, 0, 0, 0]\n",
      "[1, 1, 3, 3, 5, 'M', 2, 0, 1, 'M', 3, 4, 'M', 3, 1, 1, 1, 2, 1, 2, 1, 3, 3, 'M', 1, 1, 2, 2, 2, 1]\n",
      "[1, 'M', 3, 'M', 3, 1, 1, 0, 1, 1, 2, 'M', 'M', 2, 1, 1, 1, 1, 'M', 1, 0, 1, 'M', 2, 2, 2, 'M', 'M', 2, 'M']\n",
      "[2, 2, 3, 'M', 2, 0, 0, 0, 0, 0, 2, 4, 4, 2, 1, 'M', 1, 1, 1, 1, 0, 1, 1, 1, 2, 'M', 4, 2, 2, 1]\n",
      "['M', 2, 2, 3, 2, 1, 0, 0, 0, 0, 1, 'M', 'M', 1, 1, 2, 2, 1, 0, 1, 2, 2, 1, 1, 3, 'M', 2, 0, 0, 0]\n",
      "[1, 2, 'M', 3, 'M', 1, 0, 0, 0, 0, 1, 2, 2, 1, 0, 1, 'M', 1, 0, 1, 'M', 'M', 1, 1, 'M', 2, 2, 1, 1, 0]\n",
      "[0, 1, 2, 'M', 2, 1, 0, 1, 1, 1, 0, 1, 1, 1, 1, 2, 2, 1, 1, 2, 3, 2, 1, 1, 1, 2, 2, 'M', 1, 0]\n",
      "[0, 0, 1, 2, 2, 2, 1, 3, 'M', 3, 1, 2, 'M', 1, 1, 'M', 1, 0, 2, 'M', 2, 0, 0, 0, 0, 1, 'M', 2, 1, 0]\n",
      "[0, 0, 0, 1, 'M', 2, 'M', 3, 'M', 4, 'M', 3, 2, 2, 2, 2, 2, 1, 2, 'M', 4, 2, 1, 1, 1, 2, 2, 3, 3, 2]\n",
      "[0, 0, 0, 2, 3, 4, 2, 3, 2, 4, 'M', 3, 2, 'M', 1, 1, 'M', 2, 2, 3, 'M', 'M', 2, 3, 'M', 2, 2, 'M', 'M', 'M']\n",
      "[0, 1, 1, 3, 'M', 'M', 2, 2, 'M', 3, 2, 2, 'M', 3, 2, 2, 1, 3, 'M', 5, 4, 4, 'M', 4, 'M', 3, 3, 'M', 4, 2]\n",
      "[2, 4, 'M', 4, 'M', 4, 3, 'M', 4, 'M', 2, 1, 1, 2, 'M', 1, 0, 2, 'M', 'M', 'M', 2, 2, 'M', 2, 3, 'M', 3, 2, 1]\n",
      "['M', 'M', 'M', 3, 1, 2, 'M', 2, 4, 'M', 3, 0, 0, 1, 1, 1, 0, 2, 3, 5, 3, 2, 2, 2, 2, 2, 'M', 2, 2, 'M']\n",
      "['M', 4, 2, 1, 0, 1, 1, 1, 2, 'M', 2, 0, 0, 0, 0, 0, 0, 1, 'M', 2, 'M', 1, 1, 'M', 1, 1, 1, 1, 2, 'M']\n",
      "----------\n",
      "['X', 'X', 'X', 'X', 'X', 'X', 'X', 'X', 'X', 'X', 'X', 'X', 'X', 'X', 'X', 'X', 'X', 'X', 'X', 'X', 'X', 'X', 'X', 'X', 'X', 'X', 'X', 'X', 'X', 'X']\n",
      "['X', 'X', 'X', 'X', 'X', 'X', 'X', 'X', 'X', 'X', 'X', 'X', 'X', 'X', 'X', 'X', 'X', 'X', 'X', 'X', 'X', 'X', 'X', 'X', 'X', 'X', 'X', 'X', 'X', 'X']\n",
      "['X', 'X', 'X', 'X', 'X', 'X', 'X', 'X', 'X', 'X', 'X', 'X', 'X', 'X', 'X', 'X', 'X', 'X', 'X', 'X', 'X', 'X', 'X', 'X', 'X', 'X', 'X', 'X', 'X', 'X']\n",
      "['X', 'X', 'X', 'X', 'X', 'X', 'X', 'X', 'X', 'X', 'X', 'X', 'X', 'X', 'X', 'X', 'X', 'X', 'X', 'X', 'X', 'X', 'X', 'X', 'X', 'X', 'X', 'X', 'X', 'X']\n",
      "['X', 'X', 'X', 'X', 'X', 'X', 'X', 'X', 'X', 'X', 'X', 'X', 'X', 'X', 'X', 'X', 'X', 'X', 'X', 'X', 'X', 'X', 'X', 'X', 'X', 'X', 'X', 'X', 'X', 'X']\n",
      "['X', 'X', 'X', 'X', 'X', 'X', 'X', 'X', 'X', 'X', 'X', 'X', 'X', 'X', 'X', 'X', 'X', 'X', 'X', 'X', 'X', 'X', 'X', 'X', 'X', 'X', 'X', 'X', 'X', 'X']\n",
      "['X', 'X', 'X', 'X', 'X', 'X', 'X', 'X', 'X', 'X', 'X', 'X', 'X', 'X', 'X', 'X', 'X', 'X', 'X', 'X', 'X', 'X', 'X', 'X', 'X', 'X', 'X', 'X', 'X', 'X']\n",
      "['X', 'X', 'X', 'X', 'X', 'X', 'X', 'X', 'X', 'X', 'X', 'X', 'X', 'X', 'X', 'X', 'X', 'X', 'X', 'X', 'X', 'X', 'X', 'X', 'X', 'X', 'X', 'X', 'X', 'X']\n",
      "['X', 'X', 'X', 'X', 'X', 'X', 'X', 'X', 'X', 'X', 'X', 'X', 'X', 'X', 'X', 'X', 'X', 'X', 'X', 'X', 'X', 'X', 'X', 'X', 'X', 'X', 'X', 'X', 'X', 'X']\n",
      "['X', 'X', 'X', 'X', 'X', 'X', 'X', 'X', 'X', 'X', 'X', 'X', 'X', 'X', 'X', 'X', 'X', 'X', 'X', 'X', 'X', 'X', 'X', 'X', 'X', 'X', 'X', 'X', 'X', 'X']\n",
      "['X', 'X', 'X', 'X', 'X', 'X', 'X', 'X', 'X', 'X', 'X', 'X', 'X', 'X', 'X', 'X', 'X', 'X', 'X', 'X', 'X', 'X', 'X', 'X', 'X', 'X', 'X', 'X', 'X', 'X']\n",
      "['X', 'X', 'X', 'X', 'X', 'X', 'X', 'X', 'X', 'X', 'X', 'X', 'X', 'X', 'X', 'X', 'X', 'X', 'X', 'X', 'X', 'X', 'X', 'X', 'X', 'X', 'X', 'X', 'X', 'X']\n",
      "['X', 'X', 'X', 'X', 'X', 'X', 'X', 'X', 'X', 'X', 'X', 'X', 'X', 'X', 'X', 'X', 'X', 'X', 'X', 'X', 'X', 'X', 'X', 'X', 'X', 'X', 'X', 'X', 'X', 'X']\n",
      "['X', 'X', 'X', 'X', 'X', 'X', 'X', 'X', 'X', 'X', 'X', 'X', 'X', 'X', 'X', 'X', 'X', 'X', 'X', 'X', 'X', 'X', 'X', 'X', 'X', 'X', 'X', 'X', 'X', 'X']\n",
      "['X', 'X', 'X', 'X', 'X', 'X', 'X', 'X', 'X', 'X', 'X', 'X', 'X', 'X', 'X', 'X', 'X', 'X', 'X', 'X', 'X', 'X', 'X', 'X', 'X', 'X', 'X', 'X', 'X', 'X']\n",
      "['X', 'X', 'X', 'X', 'X', 'X', 'X', 'X', 'X', 'X', 'X', 'X', 'X', 'X', 'X', 'X', 'X', 'X', 'X', 'X', 'X', 'X', 'X', 'X', 'X', 'X', 'X', 'X', 'X', 'X']\n"
     ]
    }
   ],
   "source": [
    "board = generateBoard(30,16,99)\n",
    "playArea = generatePlayArea(30,16)\n",
    "\n",
    "for row in board:\n",
    "    print(row)\n",
    "print(\"----------\")\n",
    "for row in playArea:\n",
    "    print(row)"
   ]
  }
 ],
 "metadata": {
  "kernelspec": {
   "display_name": "Python 3",
   "language": "python",
   "name": "python3"
  },
  "language_info": {
   "codemirror_mode": {
    "name": "ipython",
    "version": 3
   },
   "file_extension": ".py",
   "mimetype": "text/x-python",
   "name": "python",
   "nbconvert_exporter": "python",
   "pygments_lexer": "ipython3",
   "version": "3.12.0"
  }
 },
 "nbformat": 4,
 "nbformat_minor": 2
}
