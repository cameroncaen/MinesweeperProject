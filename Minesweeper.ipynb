{
 "cells": [
  {
   "cell_type": "code",
   "execution_count": 18,
   "metadata": {},
   "outputs": [],
   "source": [
    "import random\n",
    "\n",
    "def generateBoard(rows, cols, mines):\n",
    "    board = [[0 for x in range(cols)] for y in range(rows)]\n",
    "\n",
    "    #generate mine locations\n",
    "    minePos = random.sample(range(rows * cols), mines)\n",
    "    for pos in minePos:\n",
    "        row, col = divmod(pos, cols)\n",
    "        board[row][col] = 'M'\n",
    "\n",
    "    #count neighbors\n",
    "    for row in range(rows):\n",
    "        for col in range(cols):\n",
    "            if board[row][col] == 'M':\n",
    "                continue\n",
    "            count = 0\n",
    "            for rowShift in [-1, 0, 1]:\n",
    "                for colShift in [-1, 0, 1]:\n",
    "                    r= row + rowShift\n",
    "                    c = col + colShift\n",
    "                    if (0 <= r < rows) and (0 <= c < cols) and (board[r][c] == 'M'):\n",
    "                        count += 1\n",
    "            board[row][col] = count\n",
    "\n",
    "    return board\n"
   ]
  },
  {
   "cell_type": "code",
   "execution_count": 21,
   "metadata": {},
   "outputs": [
    {
     "name": "stdout",
     "output_type": "stream",
     "text": [
      "[1, 1, 0, 1, 'M', 'M', 1, 0, 1, 1, 1, 0, 1, 'M', 1, 0, 0, 1, 2, 2, 1, 0, 0, 0, 0, 0, 0, 2, 'M', 2]\n",
      "['M', 2, 0, 1, 2, 2, 1, 1, 3, 'M', 2, 0, 1, 1, 1, 0, 0, 1, 'M', 'M', 2, 1, 1, 1, 1, 1, 0, 2, 'M', 3]\n",
      "['M', 2, 0, 0, 0, 0, 0, 2, 'M', 'M', 2, 0, 0, 0, 0, 0, 0, 2, 3, 4, 3, 'M', 1, 1, 'M', 1, 0, 2, 3, 'M']\n",
      "[1, 1, 0, 0, 0, 0, 0, 2, 'M', 5, 3, 2, 1, 2, 2, 2, 1, 1, 'M', 3, 'M', 2, 1, 2, 2, 2, 0, 1, 'M', 2]\n",
      "[0, 0, 1, 2, 2, 1, 0, 1, 3, 'M', 'M', 3, 'M', 4, 'M', 'M', 2, 2, 2, 'M', 2, 1, 0, 1, 'M', 1, 0, 1, 1, 1]\n",
      "[0, 1, 2, 'M', 'M', 1, 0, 0, 3, 'M', 4, 3, 'M', 'M', 4, 4, 'M', 1, 1, 1, 2, 2, 2, 2, 1, 1, 1, 1, 1, 0]\n",
      "[0, 1, 'M', 5, 4, 2, 0, 0, 2, 'M', 3, 2, 2, 3, 'M', 2, 1, 1, 0, 0, 1, 'M', 'M', 1, 0, 1, 2, 'M', 1, 0]\n",
      "[1, 2, 2, 'M', 'M', 3, 2, 1, 1, 2, 'M', 2, 2, 2, 2, 1, 0, 0, 0, 1, 2, 4, 4, 3, 1, 1, 'M', 3, 2, 1]\n",
      "['M', 1, 1, 3, 4, 'M', 'M', 2, 0, 1, 2, 'M', 2, 'M', 2, 1, 0, 0, 0, 1, 'M', 3, 'M', 'M', 2, 1, 1, 2, 'M', 1]\n",
      "[2, 2, 1, 1, 'M', 4, 'M', 3, 1, 0, 1, 1, 3, 3, 'M', 1, 1, 1, 1, 1, 1, 4, 'M', 'M', 2, 0, 0, 2, 2, 2]\n",
      "[2, 'M', 1, 2, 2, 3, 2, 'M', 1, 0, 0, 0, 1, 'M', 3, 3, 3, 'M', 1, 0, 0, 2, 'M', 4, 2, 0, 0, 2, 'M', 2]\n",
      "['M', 4, 3, 3, 'M', 2, 1, 1, 2, 1, 1, 0, 1, 2, 4, 'M', 'M', 4, 3, 1, 1, 3, 5, 'M', 2, 0, 0, 2, 'M', 2]\n",
      "[2, 'M', 'M', 3, 'M', 2, 0, 0, 1, 'M', 2, 1, 1, 1, 'M', 'M', 4, 'M', 'M', 1, 1, 'M', 'M', 'M', 2, 1, 1, 2, 2, 2]\n",
      "[1, 2, 3, 4, 4, 3, 2, 2, 3, 2, 2, 'M', 1, 1, 2, 2, 2, 2, 2, 1, 1, 3, 4, 3, 1, 1, 'M', 2, 3, 'M']\n",
      "[0, 1, 2, 'M', 'M', 'M', 2, 'M', 'M', 1, 1, 1, 1, 1, 2, 3, 2, 1, 1, 2, 2, 3, 'M', 3, 1, 2, 2, 'M', 3, 'M']\n",
      "[0, 1, 'M', 4, 'M', 3, 2, 2, 2, 1, 0, 0, 0, 1, 'M', 'M', 'M', 1, 1, 'M', 'M', 3, 'M', 3, 'M', 1, 1, 1, 2, 1]\n"
     ]
    }
   ],
   "source": [
    "board = generateBoard(16,30,99)\n",
    "\n",
    "for row in board:\n",
    "    print(row)"
   ]
  }
 ],
 "metadata": {
  "kernelspec": {
   "display_name": "Python 3",
   "language": "python",
   "name": "python3"
  },
  "language_info": {
   "codemirror_mode": {
    "name": "ipython",
    "version": 3
   },
   "file_extension": ".py",
   "mimetype": "text/x-python",
   "name": "python",
   "nbconvert_exporter": "python",
   "pygments_lexer": "ipython3",
   "version": "3.12.0"
  }
 },
 "nbformat": 4,
 "nbformat_minor": 2
}
